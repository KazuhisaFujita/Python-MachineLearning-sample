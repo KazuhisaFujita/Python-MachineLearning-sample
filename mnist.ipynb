{
  "nbformat": 4,
  "nbformat_minor": 0,
  "metadata": {
    "colab": {
      "name": "mnist.ipynb",
      "provenance": [],
      "collapsed_sections": []
    },
    "kernelspec": {
      "name": "python3",
      "display_name": "Python 3"
    },
    "language_info": {
      "name": "python"
    }
  },
  "cells": [
    {
      "cell_type": "markdown",
      "source": [
        "pytorch公式の畳み込みニューラルネットワークのexampleコードにコメントを追加したものです．\n",
        "\n",
        "サンプルの畳み込みニューラルネットワークは，畳み込み層2つ，全結合層2つで構成されています．最初の畳み込み層conv1の出力はReLu関数を通し，次の畳み込み層conv2に入力されます．conv2の出力はReLu関数と通した後，Max poolingを行います．poolingと全結合層fc1の間は学習時dropout処理がされます．最初の全結合層fc1の出力はReLu関数を通し，次の全結合層fc2に入力されます．fc1とfc2間で学習時dropoutが起こります．fc2の出力はsoftmax関数により規格化されます．\n",
        "\n",
        "dropout: 学習時，任意の割合の入力ユニットの出力を0にします．それにより過学習を回避することが期待できます．しかし効果があるとは限りません．"
      ],
      "metadata": {
        "id": "_H_0BHzD0R7N"
      }
    },
    {
      "cell_type": "code",
      "execution_count": 10,
      "metadata": {
        "id": "bksBV_DU6-CW"
      },
      "outputs": [],
      "source": [
        "from __future__ import print_function\n",
        "import argparse\n",
        "import torch\n",
        "import torch.nn as nn\n",
        "import torch.nn.functional as F\n",
        "import torch.optim as optim\n",
        "from torchvision import datasets, transforms\n",
        "from torch.optim.lr_scheduler import StepLR"
      ]
    },
    {
      "cell_type": "code",
      "source": [
        "class Net(nn.Module):\n",
        "    def __init__(self):\n",
        "        super(Net, self).__init__()\n",
        "\n",
        "        # まず最初の畳み込み層には1チャネルの入力が入る．画像認識の場合，入力のチャネルとは色数と思っておく．\n",
        "        # チャンネルが1つのときはグレースケール（輝度情報しかない）画像が入力で，チャネルが3つのときはRGBカラー画像が入力である．\n",
        "        # 32は出力のチャネル数である．言い方を変えればカーネルの種類の数である．32種類のカーネルを適用した画像がこの畳込み層で出力されるといえる．詳しくは他のウェブサイトを参考にしてほしい．\n",
        "        # 3は畳み込みのサイズ（カーネルサイズ）で，1はカーネルをズラす量である．詳しくは他のウェブサイトを参考にしてほしい．\n",
        "        self.conv1 = nn.Conv2d(1, 32, 3, 1)\n",
        "        self.conv2 = nn.Conv2d(32, 64, 3, 1)\n",
        "        self.dropout1 = nn.Dropout(0.25) # dropout1では0.25の確率で出力の値が0になる．\n",
        "        self.dropout2 = nn.Dropout(0.5)\n",
        "        self.fc1 = nn.Linear(9216, 128) # fc1は入力9216，出力128の中間層が作成される．\n",
        "        self.fc2 = nn.Linear(128, 10)\n",
        "\n",
        "    def forward(self, x):\n",
        "        x = self.conv1(x)\n",
        "        x = F.relu(x) # conv1の出力はReLu関数と通しconv2に入力される．\n",
        "        x = self.conv2(x)\n",
        "        x = F.relu(x)\n",
        "        x = F.max_pool2d(x, 2) # ReLu関数を通したconv2の出力はmax poolongされる．\n",
        "        x = self.dropout1(x)\n",
        "        x = torch.flatten(x, 1) # 出力が1次元化される．\n",
        "        x = self.fc1(x)\n",
        "        x = F.relu(x)\n",
        "        x = self.dropout2(x)\n",
        "        x = self.fc2(x)\n",
        "        # fc2の出力はsoftmax関数にかけられる．しかし，誤差にcross entropyを用いる場合，誤差計算でlogの計算をするのではなく出力の段階でlogを計算する．\n",
        "        output = F.log_softmax(x, dim=1)\n",
        "        return output"
      ],
      "metadata": {
        "id": "tHxe9nHR0Dbo"
      },
      "execution_count": 11,
      "outputs": []
    },
    {
      "cell_type": "code",
      "source": [
        "\n",
        "def train(model, device, train_loader, optimizer, epoch):\n",
        "    model.train()\n",
        "    # ミニバッチで学習がされる．1度の学習ですべてのデータを使うのではなく一部のデータを使う．\n",
        "    for batch_idx, (data, target) in enumerate(train_loader):\n",
        "        data, target = data.to(device), target.to(device)\n",
        "        # 面白いことにtargetはラベル（例えば，1，2，...）なのだが，pytorchは自動でone-of-k codingにしてくれる．\n",
        "        optimizer.zero_grad()\n",
        "        output = model(data)\n",
        "        loss = F.nll_loss(output, target) # 誤差を計算している．誤差関数はcross entropyだが，先にlogの計算を行っているのでnll_lossが用いられている．\n",
        "        loss.backward()\n",
        "        optimizer.step()\n",
        "        if batch_idx % 5 == 0:\n",
        "            print('Train Epoch: {} [{}/{} ({:.0f}%)]\\tLoss: {:.6f}'.format(\n",
        "                epoch, batch_idx * len(data), len(train_loader.dataset),\n",
        "                100. * batch_idx / len(train_loader), loss.item()))\n"
      ],
      "metadata": {
        "id": "OafmCQCU0L4w"
      },
      "execution_count": 12,
      "outputs": []
    },
    {
      "cell_type": "code",
      "source": [
        "def test(model, device, test_loader):\n",
        "    model.eval()\n",
        "    test_loss = 0\n",
        "    correct = 0\n",
        "    with torch.no_grad():\n",
        "        for data, target in test_loader:\n",
        "            data, target = data.to(device), target.to(device)\n",
        "            output = model(data)\n",
        "            test_loss += F.nll_loss(output, target, reduction='sum').item()  # sum up batch loss\n",
        "            pred = output.argmax(dim=1, keepdim=True)  # get the index of the max log-probability\n",
        "                                                       # logは単調増加関数なので，softmaxの最大値を取るユニットはlog softmaxの最大値を取るユニットと等しい．\n",
        "            correct += pred.eq(target.view_as(pred)).sum().item()\n",
        "\n",
        "    test_loss /= len(test_loader.dataset)\n",
        "\n",
        "    print('\\nTest set: Average loss: {:.4f}, Accuracy: {}/{} ({:.0f}%)\\n'.format(\n",
        "        test_loss, correct, len(test_loader.dataset),\n",
        "        100. * correct / len(test_loader.dataset)))\n",
        "\n"
      ],
      "metadata": {
        "id": "7UnzoMZl0Ndy"
      },
      "execution_count": 13,
      "outputs": []
    },
    {
      "cell_type": "code",
      "source": [
        "\n",
        "\n",
        "train_kwargs = {'batch_size': 64}\n",
        "test_kwargs = {'batch_size': 1000}\n",
        "\n",
        "# 入力画像の編集を行う関数．この例では規格化しかしていないが，回転などの処理も追加できる．\n",
        "transform=transforms.Compose([\n",
        "        transforms.ToTensor(),\n",
        "        transforms.Normalize((0.1307,), (0.3081,))\n",
        "        ])\n",
        "\n",
        "dataset1 = datasets.MNIST('.', train=True, download=True,\n",
        "                       transform=transform)\n",
        "dataset2 = datasets.MNIST('.', train=False,\n",
        "                       transform=transform)\n",
        "train_loader = torch.utils.data.DataLoader(dataset1,**train_kwargs)\n",
        "test_loader = torch.utils.data.DataLoader(dataset2, **test_kwargs)\n"
      ],
      "metadata": {
        "id": "wgMXtjsk-_iQ"
      },
      "execution_count": 14,
      "outputs": []
    },
    {
      "cell_type": "code",
      "source": [
        "device = \"cpu\" # 計算するデバイスを指定している．gpuの方が計算が早く終る．\n",
        "model = Net().to(device)\n",
        "optimizer = optim.Adadelta(model.parameters(), lr=0.5) # この例では最適化法としてAdadeltaが使われている．\n",
        "\n",
        "Epochs = 10 # いわゆる，学習回数．\n",
        "scheduler = StepLR(optimizer, step_size=1, gamma=0.7) # StepLRを用いることで学習回数が増えると学習率が減るようになる．\n"
      ],
      "metadata": {
        "id": "saPolxn9-_X4"
      },
      "execution_count": 15,
      "outputs": []
    },
    {
      "cell_type": "code",
      "source": [
        "for epoch in range(1, Epochs + 1):\n",
        "    train(model, device, train_loader, optimizer, epoch)\n",
        "    test(model, device, test_loader)\n",
        "    scheduler.step()"
      ],
      "metadata": {
        "id": "WqTiOt6q_dl8"
      },
      "execution_count": null,
      "outputs": []
    }
  ]
}