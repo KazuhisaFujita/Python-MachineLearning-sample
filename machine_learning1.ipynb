{
  "nbformat": 4,
  "nbformat_minor": 0,
  "metadata": {
    "colab": {
      "name": "machine_learning1.ipynb",
      "provenance": [],
      "collapsed_sections": []
    },
    "kernelspec": {
      "name": "python3",
      "display_name": "Python 3"
    },
    "language_info": {
      "name": "python"
    }
  },
  "cells": [
    {
      "cell_type": "markdown",
      "source": [
        ""
      ],
      "metadata": {
        "id": "EhPkzHi_WU1G"
      }
    },
    {
      "cell_type": "markdown",
      "source": [
        "## 計算\n",
        "\n",
        "Pythonには変数定義がない。\n",
        "使うときに変数が生成される。"
      ],
      "metadata": {
        "id": "Wign8OxCWXaJ"
      }
    },
    {
      "cell_type": "code",
      "execution_count": null,
      "metadata": {
        "id": "vYPLTIbfT1BW"
      },
      "outputs": [],
      "source": [
        "a = 1 #aに1を代入する。\n",
        "b = 2 #bに2を代入する。"
      ]
    },
    {
      "cell_type": "markdown",
      "source": [
        "変数の方は代入したものによって自動で決まる。\n",
        "1を代入すれば整数型に1.0を代入すれば浮動小数点変数になる。\n",
        "計算に使う記号は算数で使うものとほぼ一緒である。"
      ],
      "metadata": {
        "id": "V9fh4KP0WkqE"
      }
    },
    {
      "cell_type": "code",
      "source": [
        "print(\"数式\")\n",
        "print(a + b)\n",
        "print(a - b)\n",
        "print(a * b)\n",
        "print(a / b)\n",
        "print(b ** 4)"
      ],
      "metadata": {
        "colab": {
          "base_uri": "https://localhost:8080/"
        },
        "id": "6eL_mW32W-fZ",
        "outputId": "d429f403-daed-4024-b629-57d2edc37e4a"
      },
      "execution_count": null,
      "outputs": [
        {
          "output_type": "stream",
          "name": "stdout",
          "text": [
            "数式\n",
            "3\n",
            "-1\n",
            "2\n",
            "0.5\n",
            "16\n"
          ]
        }
      ]
    },
    {
      "cell_type": "markdown",
      "source": [
        "### 問題\n",
        "最後の計算で用いている**はどのような計算を行っているだろうか？"
      ],
      "metadata": {
        "id": "mHmwJuBwwSVb"
      }
    },
    {
      "cell_type": "markdown",
      "source": [
        "## ベクトル\n",
        "\n",
        "人工知能で用いるデータのほとんどは、ベクトルの集まりである。\n",
        "つまり、人工知能はベクトルの計算でできているといっても過言ではない。\n",
        "人工知能のプログラムでは、ベクトルの計算が多用される。\n",
        "\n",
        "Pythonではベクトルを使うときはNumpyというライブラリを使う。"
      ],
      "metadata": {
        "id": "NHLUihniXMoV"
      }
    },
    {
      "cell_type": "code",
      "source": [
        "import numpy as np #importでnumpyをnpとして読み込む。"
      ],
      "metadata": {
        "id": "5rXwabk3XTPB"
      },
      "execution_count": null,
      "outputs": []
    },
    {
      "cell_type": "markdown",
      "source": [
        "様々な方法でベクトルを作成できる。"
      ],
      "metadata": {
        "id": "hENuyjeRXf4p"
      }
    },
    {
      "cell_type": "code",
      "source": [
        "print(\"2次元ベクトルを作る。\")\n",
        "a = np.array([1,2])\n",
        "print(a)\n",
        "\n",
        "print(\"3次元ベクトルを作る。\")\n",
        "a = np.array([1,2,3])\n",
        "print(a)\n",
        "\n",
        "print(\"\")\n",
        "print(\"0から9までの数値を持つ10次元ベクトルaを作る。\")\n",
        "a = np.arange(10)\n",
        "print(a)\n",
        "\n",
        "print(\"\")\n",
        "print(\"10次元のベクトルaを作る。それぞれの要素は0に初期化する。\")\n",
        "a = np.zeros(10)\n",
        "print(a)\n",
        "\n",
        "print(\"\")\n",
        "print(\"2次元のベクトル10個もつaを作る。それぞれの要素は0に初期化する。\")\n",
        "a = np.zeros((10, 2))\n",
        "print(a)"
      ],
      "metadata": {
        "id": "jUu8UuytXe_F",
        "colab": {
          "base_uri": "https://localhost:8080/"
        },
        "outputId": "9241a1b7-4168-4139-f62a-f9aa97513172"
      },
      "execution_count": null,
      "outputs": [
        {
          "output_type": "stream",
          "name": "stdout",
          "text": [
            "2次元ベクトルを作る。\n",
            "[1 2]\n",
            "3次元ベクトルを作る。\n",
            "[1 2 3]\n",
            "\n",
            "0から9までの数値を持つ10次元ベクトルaを作る。\n",
            "[0 1 2 3 4 5 6 7 8 9]\n",
            "\n",
            "10次元のベクトルaを作る。それぞれの要素は0に初期化する。\n",
            "[0. 0. 0. 0. 0. 0. 0. 0. 0. 0.]\n",
            "\n",
            "2次元のベクトル10個もつaを作る。それぞれの要素は0に初期化する。\n",
            "[[0. 0.]\n",
            " [0. 0.]\n",
            " [0. 0.]\n",
            " [0. 0.]\n",
            " [0. 0.]\n",
            " [0. 0.]\n",
            " [0. 0.]\n",
            " [0. 0.]\n",
            " [0. 0.]\n",
            " [0. 0.]]\n"
          ]
        }
      ]
    },
    {
      "cell_type": "markdown",
      "source": [
        "ベクトルの演算は簡単に行える。\n"
      ],
      "metadata": {
        "id": "_dgd00HqHhXu"
      }
    },
    {
      "cell_type": "code",
      "source": [
        "a = np.array([0,0])\n",
        "print(a)\n",
        "\n",
        "print(\"aの要素にすべて1を足す。\")\n",
        "a = a + 1\n",
        "print(a)\n",
        "\n",
        "print(\"\")\n",
        "\n",
        "print(\"a に bを足す。\")\n",
        "b = np.array([4,5])\n",
        "c = a + b\n",
        "print(a)\n",
        "print(b)\n",
        "print(c)\n",
        "\n",
        "print(\"\")\n",
        "print(\"aの要素とbの要素をかける。\")\n",
        "c = a * b\n",
        "print(c)\n",
        "#内積になっていないことに注意。\n",
        "\n",
        "print(\"\")\n",
        "print(\"内積はdotで行う。\")\n",
        "c = np.dot(a, b)\n",
        "print(c)\n",
        "\n",
        "print(\"\")\n",
        "print(\"ノルム|(x, y)|も計算できる。|(x, y)|^2=x^2+y^2\")\n",
        "c = np.linalg.norm(a)\n",
        "print(a)\n",
        "print(c)"
      ],
      "metadata": {
        "colab": {
          "base_uri": "https://localhost:8080/"
        },
        "id": "t8EBqJdWHoPo",
        "outputId": "460fb6f3-9383-42b3-83aa-79e4bcb9824f"
      },
      "execution_count": null,
      "outputs": [
        {
          "output_type": "stream",
          "name": "stdout",
          "text": [
            "[0 0]\n",
            "aの要素にすべて1を足す。\n",
            "[1 1]\n",
            "\n",
            "a に bを足す。\n",
            "[1 1]\n",
            "[4 5]\n",
            "[5 6]\n",
            "\n",
            "aの要素とbの要素をかける。\n",
            "[4 5]\n",
            "\n",
            "内積はdotで行う。\n",
            "9\n",
            "\n",
            "ノルム|(x, y)|も計算できる。|(x, y)|^2=x^2+y^2\n",
            "[1 1]\n",
            "1.4142135623730951\n"
          ]
        }
      ]
    },
    {
      "cell_type": "markdown",
      "source": [
        "### 問題\n",
        "1から10までの整数を要素とするベクトルを作ってみよう。"
      ],
      "metadata": {
        "id": "bBW3g3EQyPP6"
      }
    },
    {
      "cell_type": "markdown",
      "source": [
        "##グラフ\n",
        "\n",
        "グラフをかいてみよう。グラフを書くときはmatplotlibというライブラリを使う。"
      ],
      "metadata": {
        "id": "nDbkPtASQplM"
      }
    },
    {
      "cell_type": "code",
      "source": [
        "import matplotlib.pyplot as plt"
      ],
      "metadata": {
        "id": "VVhSbIfWM_DY"
      },
      "execution_count": null,
      "outputs": []
    },
    {
      "cell_type": "markdown",
      "source": [
        "y=xのグラフを書いてみる。"
      ],
      "metadata": {
        "id": "ipgNU5p_UHPs"
      }
    },
    {
      "cell_type": "code",
      "source": [
        "x = np.arange(11) #0から10までの数値を生成する。\n",
        "y = x\n",
        "\n",
        "plt.plot(x, y)\n",
        "plt.show()"
      ],
      "metadata": {
        "colab": {
          "base_uri": "https://localhost:8080/",
          "height": 265
        },
        "id": "2b3Nks7uUG87",
        "outputId": "b9d470cf-e5e4-4641-faa6-27c8e5559b73"
      },
      "execution_count": null,
      "outputs": [
        {
          "output_type": "display_data",
          "data": {
            "image/png": "[encoded data removed]",
            "text/plain": [
              "<Figure size 432x288 with 1 Axes>"
            ]
          },
          "metadata": {
            "needs_background": "light"
          }
        }
      ]
    },
    {
      "cell_type": "markdown",
      "source": [
        "y=x^2にしてみよう。"
      ],
      "metadata": {
        "id": "TOuaLxfkUhXR"
      }
    },
    {
      "cell_type": "code",
      "source": [
        "y = x**2\n",
        "\n",
        "plt.plot(x, y)\n",
        "plt.show()"
      ],
      "metadata": {
        "colab": {
          "base_uri": "https://localhost:8080/",
          "height": 265
        },
        "id": "_qe8eSUvUgry",
        "outputId": "b6682e75-9eb1-4cbf-a42a-70dde9215b7e"
      },
      "execution_count": null,
      "outputs": [
        {
          "output_type": "display_data",
          "data": {
            "image/png": "[encoded data removed]",
            "text/plain": [
              "<Figure size 432x288 with 1 Axes>"
            ]
          },
          "metadata": {
            "needs_background": "light"
          }
        }
      ]
    },
    {
      "cell_type": "markdown",
      "source": [
        "よく見るとガタガタしたグラフになっている。\n",
        "これは、xが0から10を1刻みに値をとったからだ。\n",
        "これを0から10を0.1刻みにしてみたい。"
      ],
      "metadata": {
        "id": "U-V-cAAiUqbv"
      }
    },
    {
      "cell_type": "code",
      "source": [
        "x = np.arange(101) * 0.1 #0から100までの整数が生成され、それに0.1をかけると0から10を0.1刻みにした数列が生成される。\n",
        "y = x**2\n",
        "\n",
        "plt.plot(x, y)\n",
        "plt.show()"
      ],
      "metadata": {
        "colab": {
          "base_uri": "https://localhost:8080/",
          "height": 265
        },
        "id": "n1FmLbmRM8vx",
        "outputId": "5bd2ce07-5c72-4cb2-d26f-252d3abb0644"
      },
      "execution_count": null,
      "outputs": [
        {
          "output_type": "display_data",
          "data": {
            "image/png": "[encoded data removed]",
            "text/plain": [
              "<Figure size 432x288 with 1 Axes>"
            ]
          },
          "metadata": {
            "needs_background": "light"
          }
        }
      ]
    }
  ]
}